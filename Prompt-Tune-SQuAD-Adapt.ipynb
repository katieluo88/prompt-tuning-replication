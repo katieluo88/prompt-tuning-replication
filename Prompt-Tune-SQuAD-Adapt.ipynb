{
 "cells": [
  {
   "cell_type": "code",
   "execution_count": 1,
   "metadata": {},
   "outputs": [],
   "source": [
    "from transformers import AutoTokenizer, AutoModel\n",
    "from transformers import T5Tokenizer, T5ForConditionalGeneration"
   ]
  },
  {
   "cell_type": "code",
   "execution_count": 2,
   "metadata": {},
   "outputs": [],
   "source": [
    "import torch\n",
    "import torch.nn as nn"
   ]
  },
  {
   "cell_type": "code",
   "execution_count": 3,
   "metadata": {},
   "outputs": [],
   "source": [
    "from soft_embedding import SoftEmbedding\n",
    "\n",
    "n_tokens = 20\n",
    "initialize_from_vocab = True"
   ]
  },
  {
   "cell_type": "markdown",
   "metadata": {},
   "source": [
    "# Get the T5 LM-Adapt model"
   ]
  },
  {
   "cell_type": "code",
   "execution_count": 4,
   "metadata": {},
   "outputs": [],
   "source": [
    "# tokenizer = AutoTokenizer.from_pretrained('google/t5-base-lm-adapt')\n",
    "# model = AutoModel.from_pretrained('google/t5-base-lm-adapt')\n",
    "\n",
    "tokenizer = T5Tokenizer.from_pretrained(\"google/t5-base-lm-adapt\")\n",
    "model = T5ForConditionalGeneration.from_pretrained(\"google/t5-base-lm-adapt\")"
   ]
  },
  {
   "cell_type": "markdown",
   "metadata": {},
   "source": [
    "## Set the prompt embeddings"
   ]
  },
  {
   "cell_type": "code",
   "execution_count": 5,
   "metadata": {
    "scrolled": true
   },
   "outputs": [
    {
     "data": {
      "text/plain": [
       "Embedding(32128, 768)"
      ]
     },
     "execution_count": 5,
     "metadata": {},
     "output_type": "execute_result"
    }
   ],
   "source": [
    "model.get_input_embeddings()"
   ]
  },
  {
   "cell_type": "code",
   "execution_count": 6,
   "metadata": {},
   "outputs": [],
   "source": [
    "s_wte = SoftEmbedding(model.get_input_embeddings(), \n",
    "                      n_tokens=n_tokens, \n",
    "                      initialize_from_vocab=initialize_from_vocab)"
   ]
  },
  {
   "cell_type": "code",
   "execution_count": 7,
   "metadata": {},
   "outputs": [],
   "source": [
    "model.encoder.set_input_embeddings(s_wte)"
   ]
  },
  {
   "cell_type": "code",
   "execution_count": 8,
   "metadata": {},
   "outputs": [
    {
     "data": {
      "text/plain": [
       "SoftEmbedding(\n",
       "  (wte): Embedding(32128, 768)\n",
       ")"
      ]
     },
     "execution_count": 8,
     "metadata": {},
     "output_type": "execute_result"
    }
   ],
   "source": [
    "model.encoder.get_input_embeddings()"
   ]
  },
  {
   "cell_type": "code",
   "execution_count": 9,
   "metadata": {},
   "outputs": [
    {
     "data": {
      "text/plain": [
       "Embedding(32128, 768)"
      ]
     },
     "execution_count": 9,
     "metadata": {},
     "output_type": "execute_result"
    }
   ],
   "source": [
    "model.decoder.get_input_embeddings()"
   ]
  },
  {
   "cell_type": "code",
   "execution_count": 10,
   "metadata": {},
   "outputs": [
    {
     "name": "stdout",
     "output_type": "stream",
     "text": [
      "freezing shared.weight\n",
      "freezing encoder.block.0.layer.0.SelfAttention.q.weight\n",
      "freezing encoder.block.0.layer.0.SelfAttention.k.weight\n",
      "freezing encoder.block.0.layer.0.SelfAttention.v.weight\n",
      "freezing encoder.block.0.layer.0.SelfAttention.o.weight\n",
      "freezing encoder.block.0.layer.0.SelfAttention.relative_attention_bias.weight\n",
      "freezing encoder.block.0.layer.0.layer_norm.weight\n",
      "freezing encoder.block.0.layer.1.DenseReluDense.wi_0.weight\n",
      "freezing encoder.block.0.layer.1.DenseReluDense.wi_1.weight\n",
      "freezing encoder.block.0.layer.1.DenseReluDense.wo.weight\n",
      "freezing encoder.block.0.layer.1.layer_norm.weight\n",
      "freezing encoder.block.1.layer.0.SelfAttention.q.weight\n",
      "freezing encoder.block.1.layer.0.SelfAttention.k.weight\n",
      "freezing encoder.block.1.layer.0.SelfAttention.v.weight\n",
      "freezing encoder.block.1.layer.0.SelfAttention.o.weight\n",
      "freezing encoder.block.1.layer.0.layer_norm.weight\n",
      "freezing encoder.block.1.layer.1.DenseReluDense.wi_0.weight\n",
      "freezing encoder.block.1.layer.1.DenseReluDense.wi_1.weight\n",
      "freezing encoder.block.1.layer.1.DenseReluDense.wo.weight\n",
      "freezing encoder.block.1.layer.1.layer_norm.weight\n",
      "freezing encoder.block.2.layer.0.SelfAttention.q.weight\n",
      "freezing encoder.block.2.layer.0.SelfAttention.k.weight\n",
      "freezing encoder.block.2.layer.0.SelfAttention.v.weight\n",
      "freezing encoder.block.2.layer.0.SelfAttention.o.weight\n",
      "freezing encoder.block.2.layer.0.layer_norm.weight\n",
      "freezing encoder.block.2.layer.1.DenseReluDense.wi_0.weight\n",
      "freezing encoder.block.2.layer.1.DenseReluDense.wi_1.weight\n",
      "freezing encoder.block.2.layer.1.DenseReluDense.wo.weight\n",
      "freezing encoder.block.2.layer.1.layer_norm.weight\n",
      "freezing encoder.block.3.layer.0.SelfAttention.q.weight\n",
      "freezing encoder.block.3.layer.0.SelfAttention.k.weight\n",
      "freezing encoder.block.3.layer.0.SelfAttention.v.weight\n",
      "freezing encoder.block.3.layer.0.SelfAttention.o.weight\n",
      "freezing encoder.block.3.layer.0.layer_norm.weight\n",
      "freezing encoder.block.3.layer.1.DenseReluDense.wi_0.weight\n",
      "freezing encoder.block.3.layer.1.DenseReluDense.wi_1.weight\n",
      "freezing encoder.block.3.layer.1.DenseReluDense.wo.weight\n",
      "freezing encoder.block.3.layer.1.layer_norm.weight\n",
      "freezing encoder.block.4.layer.0.SelfAttention.q.weight\n",
      "freezing encoder.block.4.layer.0.SelfAttention.k.weight\n",
      "freezing encoder.block.4.layer.0.SelfAttention.v.weight\n",
      "freezing encoder.block.4.layer.0.SelfAttention.o.weight\n",
      "freezing encoder.block.4.layer.0.layer_norm.weight\n",
      "freezing encoder.block.4.layer.1.DenseReluDense.wi_0.weight\n",
      "freezing encoder.block.4.layer.1.DenseReluDense.wi_1.weight\n",
      "freezing encoder.block.4.layer.1.DenseReluDense.wo.weight\n",
      "freezing encoder.block.4.layer.1.layer_norm.weight\n",
      "freezing encoder.block.5.layer.0.SelfAttention.q.weight\n",
      "freezing encoder.block.5.layer.0.SelfAttention.k.weight\n",
      "freezing encoder.block.5.layer.0.SelfAttention.v.weight\n",
      "freezing encoder.block.5.layer.0.SelfAttention.o.weight\n",
      "freezing encoder.block.5.layer.0.layer_norm.weight\n",
      "freezing encoder.block.5.layer.1.DenseReluDense.wi_0.weight\n",
      "freezing encoder.block.5.layer.1.DenseReluDense.wi_1.weight\n",
      "freezing encoder.block.5.layer.1.DenseReluDense.wo.weight\n",
      "freezing encoder.block.5.layer.1.layer_norm.weight\n",
      "freezing encoder.block.6.layer.0.SelfAttention.q.weight\n",
      "freezing encoder.block.6.layer.0.SelfAttention.k.weight\n",
      "freezing encoder.block.6.layer.0.SelfAttention.v.weight\n",
      "freezing encoder.block.6.layer.0.SelfAttention.o.weight\n",
      "freezing encoder.block.6.layer.0.layer_norm.weight\n",
      "freezing encoder.block.6.layer.1.DenseReluDense.wi_0.weight\n",
      "freezing encoder.block.6.layer.1.DenseReluDense.wi_1.weight\n",
      "freezing encoder.block.6.layer.1.DenseReluDense.wo.weight\n",
      "freezing encoder.block.6.layer.1.layer_norm.weight\n",
      "freezing encoder.block.7.layer.0.SelfAttention.q.weight\n",
      "freezing encoder.block.7.layer.0.SelfAttention.k.weight\n",
      "freezing encoder.block.7.layer.0.SelfAttention.v.weight\n",
      "freezing encoder.block.7.layer.0.SelfAttention.o.weight\n",
      "freezing encoder.block.7.layer.0.layer_norm.weight\n",
      "freezing encoder.block.7.layer.1.DenseReluDense.wi_0.weight\n",
      "freezing encoder.block.7.layer.1.DenseReluDense.wi_1.weight\n",
      "freezing encoder.block.7.layer.1.DenseReluDense.wo.weight\n",
      "freezing encoder.block.7.layer.1.layer_norm.weight\n",
      "freezing encoder.block.8.layer.0.SelfAttention.q.weight\n",
      "freezing encoder.block.8.layer.0.SelfAttention.k.weight\n",
      "freezing encoder.block.8.layer.0.SelfAttention.v.weight\n",
      "freezing encoder.block.8.layer.0.SelfAttention.o.weight\n",
      "freezing encoder.block.8.layer.0.layer_norm.weight\n",
      "freezing encoder.block.8.layer.1.DenseReluDense.wi_0.weight\n",
      "freezing encoder.block.8.layer.1.DenseReluDense.wi_1.weight\n",
      "freezing encoder.block.8.layer.1.DenseReluDense.wo.weight\n",
      "freezing encoder.block.8.layer.1.layer_norm.weight\n",
      "freezing encoder.block.9.layer.0.SelfAttention.q.weight\n",
      "freezing encoder.block.9.layer.0.SelfAttention.k.weight\n",
      "freezing encoder.block.9.layer.0.SelfAttention.v.weight\n",
      "freezing encoder.block.9.layer.0.SelfAttention.o.weight\n",
      "freezing encoder.block.9.layer.0.layer_norm.weight\n",
      "freezing encoder.block.9.layer.1.DenseReluDense.wi_0.weight\n",
      "freezing encoder.block.9.layer.1.DenseReluDense.wi_1.weight\n",
      "freezing encoder.block.9.layer.1.DenseReluDense.wo.weight\n",
      "freezing encoder.block.9.layer.1.layer_norm.weight\n",
      "freezing encoder.block.10.layer.0.SelfAttention.q.weight\n",
      "freezing encoder.block.10.layer.0.SelfAttention.k.weight\n",
      "freezing encoder.block.10.layer.0.SelfAttention.v.weight\n",
      "freezing encoder.block.10.layer.0.SelfAttention.o.weight\n",
      "freezing encoder.block.10.layer.0.layer_norm.weight\n",
      "freezing encoder.block.10.layer.1.DenseReluDense.wi_0.weight\n",
      "freezing encoder.block.10.layer.1.DenseReluDense.wi_1.weight\n",
      "freezing encoder.block.10.layer.1.DenseReluDense.wo.weight\n",
      "freezing encoder.block.10.layer.1.layer_norm.weight\n",
      "freezing encoder.block.11.layer.0.SelfAttention.q.weight\n",
      "freezing encoder.block.11.layer.0.SelfAttention.k.weight\n",
      "freezing encoder.block.11.layer.0.SelfAttention.v.weight\n",
      "freezing encoder.block.11.layer.0.SelfAttention.o.weight\n",
      "freezing encoder.block.11.layer.0.layer_norm.weight\n",
      "freezing encoder.block.11.layer.1.DenseReluDense.wi_0.weight\n",
      "freezing encoder.block.11.layer.1.DenseReluDense.wi_1.weight\n",
      "freezing encoder.block.11.layer.1.DenseReluDense.wo.weight\n",
      "freezing encoder.block.11.layer.1.layer_norm.weight\n",
      "freezing encoder.final_layer_norm.weight\n",
      "freezing decoder.block.0.layer.0.SelfAttention.q.weight\n",
      "freezing decoder.block.0.layer.0.SelfAttention.k.weight\n",
      "freezing decoder.block.0.layer.0.SelfAttention.v.weight\n",
      "freezing decoder.block.0.layer.0.SelfAttention.o.weight\n",
      "freezing decoder.block.0.layer.0.SelfAttention.relative_attention_bias.weight\n",
      "freezing decoder.block.0.layer.0.layer_norm.weight\n",
      "freezing decoder.block.0.layer.1.EncDecAttention.q.weight\n",
      "freezing decoder.block.0.layer.1.EncDecAttention.k.weight\n",
      "freezing decoder.block.0.layer.1.EncDecAttention.v.weight\n",
      "freezing decoder.block.0.layer.1.EncDecAttention.o.weight\n",
      "freezing decoder.block.0.layer.1.layer_norm.weight\n",
      "freezing decoder.block.0.layer.2.DenseReluDense.wi_0.weight\n",
      "freezing decoder.block.0.layer.2.DenseReluDense.wi_1.weight\n",
      "freezing decoder.block.0.layer.2.DenseReluDense.wo.weight\n",
      "freezing decoder.block.0.layer.2.layer_norm.weight\n",
      "freezing decoder.block.1.layer.0.SelfAttention.q.weight\n",
      "freezing decoder.block.1.layer.0.SelfAttention.k.weight\n",
      "freezing decoder.block.1.layer.0.SelfAttention.v.weight\n",
      "freezing decoder.block.1.layer.0.SelfAttention.o.weight\n",
      "freezing decoder.block.1.layer.0.layer_norm.weight\n",
      "freezing decoder.block.1.layer.1.EncDecAttention.q.weight\n",
      "freezing decoder.block.1.layer.1.EncDecAttention.k.weight\n",
      "freezing decoder.block.1.layer.1.EncDecAttention.v.weight\n",
      "freezing decoder.block.1.layer.1.EncDecAttention.o.weight\n",
      "freezing decoder.block.1.layer.1.layer_norm.weight\n",
      "freezing decoder.block.1.layer.2.DenseReluDense.wi_0.weight\n",
      "freezing decoder.block.1.layer.2.DenseReluDense.wi_1.weight\n",
      "freezing decoder.block.1.layer.2.DenseReluDense.wo.weight\n",
      "freezing decoder.block.1.layer.2.layer_norm.weight\n",
      "freezing decoder.block.2.layer.0.SelfAttention.q.weight\n",
      "freezing decoder.block.2.layer.0.SelfAttention.k.weight\n",
      "freezing decoder.block.2.layer.0.SelfAttention.v.weight\n",
      "freezing decoder.block.2.layer.0.SelfAttention.o.weight\n",
      "freezing decoder.block.2.layer.0.layer_norm.weight\n",
      "freezing decoder.block.2.layer.1.EncDecAttention.q.weight\n",
      "freezing decoder.block.2.layer.1.EncDecAttention.k.weight\n",
      "freezing decoder.block.2.layer.1.EncDecAttention.v.weight\n",
      "freezing decoder.block.2.layer.1.EncDecAttention.o.weight\n",
      "freezing decoder.block.2.layer.1.layer_norm.weight\n",
      "freezing decoder.block.2.layer.2.DenseReluDense.wi_0.weight\n",
      "freezing decoder.block.2.layer.2.DenseReluDense.wi_1.weight\n",
      "freezing decoder.block.2.layer.2.DenseReluDense.wo.weight\n",
      "freezing decoder.block.2.layer.2.layer_norm.weight\n",
      "freezing decoder.block.3.layer.0.SelfAttention.q.weight\n",
      "freezing decoder.block.3.layer.0.SelfAttention.k.weight\n",
      "freezing decoder.block.3.layer.0.SelfAttention.v.weight\n",
      "freezing decoder.block.3.layer.0.SelfAttention.o.weight\n",
      "freezing decoder.block.3.layer.0.layer_norm.weight\n",
      "freezing decoder.block.3.layer.1.EncDecAttention.q.weight\n",
      "freezing decoder.block.3.layer.1.EncDecAttention.k.weight\n",
      "freezing decoder.block.3.layer.1.EncDecAttention.v.weight\n",
      "freezing decoder.block.3.layer.1.EncDecAttention.o.weight\n",
      "freezing decoder.block.3.layer.1.layer_norm.weight\n",
      "freezing decoder.block.3.layer.2.DenseReluDense.wi_0.weight\n",
      "freezing decoder.block.3.layer.2.DenseReluDense.wi_1.weight\n",
      "freezing decoder.block.3.layer.2.DenseReluDense.wo.weight\n",
      "freezing decoder.block.3.layer.2.layer_norm.weight\n",
      "freezing decoder.block.4.layer.0.SelfAttention.q.weight\n",
      "freezing decoder.block.4.layer.0.SelfAttention.k.weight\n",
      "freezing decoder.block.4.layer.0.SelfAttention.v.weight\n",
      "freezing decoder.block.4.layer.0.SelfAttention.o.weight\n",
      "freezing decoder.block.4.layer.0.layer_norm.weight\n",
      "freezing decoder.block.4.layer.1.EncDecAttention.q.weight\n",
      "freezing decoder.block.4.layer.1.EncDecAttention.k.weight\n",
      "freezing decoder.block.4.layer.1.EncDecAttention.v.weight\n",
      "freezing decoder.block.4.layer.1.EncDecAttention.o.weight\n",
      "freezing decoder.block.4.layer.1.layer_norm.weight\n",
      "freezing decoder.block.4.layer.2.DenseReluDense.wi_0.weight\n",
      "freezing decoder.block.4.layer.2.DenseReluDense.wi_1.weight\n",
      "freezing decoder.block.4.layer.2.DenseReluDense.wo.weight\n",
      "freezing decoder.block.4.layer.2.layer_norm.weight\n",
      "freezing decoder.block.5.layer.0.SelfAttention.q.weight\n",
      "freezing decoder.block.5.layer.0.SelfAttention.k.weight\n",
      "freezing decoder.block.5.layer.0.SelfAttention.v.weight\n",
      "freezing decoder.block.5.layer.0.SelfAttention.o.weight\n",
      "freezing decoder.block.5.layer.0.layer_norm.weight\n",
      "freezing decoder.block.5.layer.1.EncDecAttention.q.weight\n",
      "freezing decoder.block.5.layer.1.EncDecAttention.k.weight\n",
      "freezing decoder.block.5.layer.1.EncDecAttention.v.weight\n",
      "freezing decoder.block.5.layer.1.EncDecAttention.o.weight\n",
      "freezing decoder.block.5.layer.1.layer_norm.weight\n",
      "freezing decoder.block.5.layer.2.DenseReluDense.wi_0.weight\n",
      "freezing decoder.block.5.layer.2.DenseReluDense.wi_1.weight\n",
      "freezing decoder.block.5.layer.2.DenseReluDense.wo.weight\n",
      "freezing decoder.block.5.layer.2.layer_norm.weight\n",
      "freezing decoder.block.6.layer.0.SelfAttention.q.weight\n",
      "freezing decoder.block.6.layer.0.SelfAttention.k.weight\n",
      "freezing decoder.block.6.layer.0.SelfAttention.v.weight\n",
      "freezing decoder.block.6.layer.0.SelfAttention.o.weight\n",
      "freezing decoder.block.6.layer.0.layer_norm.weight\n",
      "freezing decoder.block.6.layer.1.EncDecAttention.q.weight\n",
      "freezing decoder.block.6.layer.1.EncDecAttention.k.weight\n",
      "freezing decoder.block.6.layer.1.EncDecAttention.v.weight\n",
      "freezing decoder.block.6.layer.1.EncDecAttention.o.weight\n",
      "freezing decoder.block.6.layer.1.layer_norm.weight\n",
      "freezing decoder.block.6.layer.2.DenseReluDense.wi_0.weight\n",
      "freezing decoder.block.6.layer.2.DenseReluDense.wi_1.weight\n",
      "freezing decoder.block.6.layer.2.DenseReluDense.wo.weight\n",
      "freezing decoder.block.6.layer.2.layer_norm.weight\n",
      "freezing decoder.block.7.layer.0.SelfAttention.q.weight\n",
      "freezing decoder.block.7.layer.0.SelfAttention.k.weight\n",
      "freezing decoder.block.7.layer.0.SelfAttention.v.weight\n",
      "freezing decoder.block.7.layer.0.SelfAttention.o.weight\n",
      "freezing decoder.block.7.layer.0.layer_norm.weight\n",
      "freezing decoder.block.7.layer.1.EncDecAttention.q.weight\n",
      "freezing decoder.block.7.layer.1.EncDecAttention.k.weight\n",
      "freezing decoder.block.7.layer.1.EncDecAttention.v.weight\n",
      "freezing decoder.block.7.layer.1.EncDecAttention.o.weight\n",
      "freezing decoder.block.7.layer.1.layer_norm.weight\n",
      "freezing decoder.block.7.layer.2.DenseReluDense.wi_0.weight\n",
      "freezing decoder.block.7.layer.2.DenseReluDense.wi_1.weight\n",
      "freezing decoder.block.7.layer.2.DenseReluDense.wo.weight\n",
      "freezing decoder.block.7.layer.2.layer_norm.weight\n",
      "freezing decoder.block.8.layer.0.SelfAttention.q.weight\n",
      "freezing decoder.block.8.layer.0.SelfAttention.k.weight\n",
      "freezing decoder.block.8.layer.0.SelfAttention.v.weight\n",
      "freezing decoder.block.8.layer.0.SelfAttention.o.weight\n",
      "freezing decoder.block.8.layer.0.layer_norm.weight\n",
      "freezing decoder.block.8.layer.1.EncDecAttention.q.weight\n",
      "freezing decoder.block.8.layer.1.EncDecAttention.k.weight\n",
      "freezing decoder.block.8.layer.1.EncDecAttention.v.weight\n",
      "freezing decoder.block.8.layer.1.EncDecAttention.o.weight\n",
      "freezing decoder.block.8.layer.1.layer_norm.weight\n",
      "freezing decoder.block.8.layer.2.DenseReluDense.wi_0.weight\n",
      "freezing decoder.block.8.layer.2.DenseReluDense.wi_1.weight\n",
      "freezing decoder.block.8.layer.2.DenseReluDense.wo.weight\n",
      "freezing decoder.block.8.layer.2.layer_norm.weight\n",
      "freezing decoder.block.9.layer.0.SelfAttention.q.weight\n",
      "freezing decoder.block.9.layer.0.SelfAttention.k.weight\n",
      "freezing decoder.block.9.layer.0.SelfAttention.v.weight\n",
      "freezing decoder.block.9.layer.0.SelfAttention.o.weight\n",
      "freezing decoder.block.9.layer.0.layer_norm.weight\n",
      "freezing decoder.block.9.layer.1.EncDecAttention.q.weight\n",
      "freezing decoder.block.9.layer.1.EncDecAttention.k.weight\n",
      "freezing decoder.block.9.layer.1.EncDecAttention.v.weight\n",
      "freezing decoder.block.9.layer.1.EncDecAttention.o.weight\n",
      "freezing decoder.block.9.layer.1.layer_norm.weight\n",
      "freezing decoder.block.9.layer.2.DenseReluDense.wi_0.weight\n",
      "freezing decoder.block.9.layer.2.DenseReluDense.wi_1.weight\n",
      "freezing decoder.block.9.layer.2.DenseReluDense.wo.weight\n",
      "freezing decoder.block.9.layer.2.layer_norm.weight\n",
      "freezing decoder.block.10.layer.0.SelfAttention.q.weight\n",
      "freezing decoder.block.10.layer.0.SelfAttention.k.weight\n",
      "freezing decoder.block.10.layer.0.SelfAttention.v.weight\n",
      "freezing decoder.block.10.layer.0.SelfAttention.o.weight\n",
      "freezing decoder.block.10.layer.0.layer_norm.weight\n",
      "freezing decoder.block.10.layer.1.EncDecAttention.q.weight\n",
      "freezing decoder.block.10.layer.1.EncDecAttention.k.weight\n",
      "freezing decoder.block.10.layer.1.EncDecAttention.v.weight\n",
      "freezing decoder.block.10.layer.1.EncDecAttention.o.weight\n",
      "freezing decoder.block.10.layer.1.layer_norm.weight\n",
      "freezing decoder.block.10.layer.2.DenseReluDense.wi_0.weight\n",
      "freezing decoder.block.10.layer.2.DenseReluDense.wi_1.weight\n",
      "freezing decoder.block.10.layer.2.DenseReluDense.wo.weight\n",
      "freezing decoder.block.10.layer.2.layer_norm.weight\n",
      "freezing decoder.block.11.layer.0.SelfAttention.q.weight\n",
      "freezing decoder.block.11.layer.0.SelfAttention.k.weight\n",
      "freezing decoder.block.11.layer.0.SelfAttention.v.weight\n",
      "freezing decoder.block.11.layer.0.SelfAttention.o.weight\n",
      "freezing decoder.block.11.layer.0.layer_norm.weight\n",
      "freezing decoder.block.11.layer.1.EncDecAttention.q.weight\n",
      "freezing decoder.block.11.layer.1.EncDecAttention.k.weight\n",
      "freezing decoder.block.11.layer.1.EncDecAttention.v.weight\n",
      "freezing decoder.block.11.layer.1.EncDecAttention.o.weight\n",
      "freezing decoder.block.11.layer.1.layer_norm.weight\n",
      "freezing decoder.block.11.layer.2.DenseReluDense.wi_0.weight\n",
      "freezing decoder.block.11.layer.2.DenseReluDense.wi_1.weight\n",
      "freezing decoder.block.11.layer.2.DenseReluDense.wo.weight\n",
      "freezing decoder.block.11.layer.2.layer_norm.weight\n",
      "freezing decoder.final_layer_norm.weight\n",
      "freezing lm_head.weight\n"
     ]
    }
   ],
   "source": [
    "# freeze all parameters except the soft embedding\n",
    "for n, p in model.named_parameters():\n",
    "    if \"learned_embedding\" not in n:\n",
    "        print(\"freezing\", n)\n",
    "        p.requires_grad = False"
   ]
  },
  {
   "cell_type": "markdown",
   "metadata": {},
   "source": [
    "## Test out an input"
   ]
  },
  {
   "cell_type": "code",
   "execution_count": 11,
   "metadata": {},
   "outputs": [
    {
     "data": {
      "text/plain": [
       "(torch.Size([1, 6]), torch.Size([1, 6]))"
      ]
     },
     "execution_count": 11,
     "metadata": {},
     "output_type": "execute_result"
    }
   ],
   "source": [
    "inputs = tokenizer(\"Potatoes are very\", return_tensors=\"pt\")\n",
    "\n",
    "inputs.input_ids.shape, inputs.attention_mask.shape"
   ]
  },
  {
   "cell_type": "code",
   "execution_count": 12,
   "metadata": {},
   "outputs": [
    {
     "data": {
      "text/plain": [
       "dict_keys(['input_ids', 'attention_mask'])"
      ]
     },
     "execution_count": 12,
     "metadata": {},
     "output_type": "execute_result"
    }
   ],
   "source": [
    "inputs.keys()"
   ]
  },
  {
   "cell_type": "code",
   "execution_count": 13,
   "metadata": {},
   "outputs": [],
   "source": [
    "# from easydict import EasyDict"
   ]
  },
  {
   "cell_type": "code",
   "execution_count": 14,
   "metadata": {
    "scrolled": true
   },
   "outputs": [
    {
     "name": "stdout",
     "output_type": "stream",
     "text": [
      "torch.Size([1, 26]) torch.Size([1, 26])\n"
     ]
    }
   ],
   "source": [
    "# need to pad attention_mask and input_ids to be full seq_len + n_learned_tokens\n",
    "# even though it does not matter what you pad input_ids with, it's just to make HF happy\n",
    "model_inputs = {}\n",
    "model_inputs['labels'] = inputs['input_ids']\n",
    "model_inputs['input_ids'] = torch.cat([torch.full((1,n_tokens), 50256), inputs['input_ids']], 1)\n",
    "model_inputs['attention_mask'] = torch.cat([torch.full((1,n_tokens), 1), inputs['attention_mask']], 1)\n",
    "\n",
    "print(model_inputs['input_ids'].shape, model_inputs['attention_mask'].shape)\n",
    "outputs = model(**model_inputs)\n",
    "# outputs = model.generate(**model_inputs)"
   ]
  },
  {
   "cell_type": "code",
   "execution_count": 15,
   "metadata": {
    "scrolled": true
   },
   "outputs": [
    {
     "data": {
      "text/plain": [
       "tensor(4.0335, grad_fn=<NllLossBackward>)"
      ]
     },
     "execution_count": 15,
     "metadata": {},
     "output_type": "execute_result"
    }
   ],
   "source": [
    "outputs.loss"
   ]
  },
  {
   "cell_type": "code",
   "execution_count": 16,
   "metadata": {},
   "outputs": [
    {
     "data": {
      "text/plain": [
       "tensor([[[-21.8414,  -3.9433,  -4.4774,  ..., -23.1774, -20.8651, -23.2463],\n",
       "         [-28.9616,  -7.3654,  -7.0188,  ..., -28.7094, -29.3238, -28.3979],\n",
       "         [-55.6495, -18.5982, -19.4930,  ..., -55.2821, -56.4373, -55.4934],\n",
       "         [-29.2188,  -7.6311,  -6.6200,  ..., -29.0802, -29.6543, -28.9161],\n",
       "         [-28.1646,  -7.5980,  -8.9950,  ..., -28.0778, -28.5367, -27.8298],\n",
       "         [-28.1100,  -6.5290,  -9.9915,  ..., -27.9909, -28.5121, -27.7928]]],\n",
       "       grad_fn=<UnsafeViewBackward>)"
      ]
     },
     "execution_count": 16,
     "metadata": {},
     "output_type": "execute_result"
    }
   ],
   "source": [
    "outputs.logits"
   ]
  },
  {
   "cell_type": "code",
   "execution_count": 17,
   "metadata": {},
   "outputs": [
    {
     "data": {
      "text/plain": [
       "'good for you.'"
      ]
     },
     "execution_count": 17,
     "metadata": {},
     "output_type": "execute_result"
    }
   ],
   "source": [
    "outputs = model.generate(model_inputs['input_ids'], max_length=20)\n",
    "tokenizer.decode(outputs[0], skip_special_tokens=True)"
   ]
  },
  {
   "cell_type": "markdown",
   "metadata": {},
   "source": [
    "# Train on SQuAD"
   ]
  },
  {
   "cell_type": "code",
   "execution_count": 18,
   "metadata": {},
   "outputs": [
    {
     "name": "stderr",
     "output_type": "stream",
     "text": [
      "Found cached dataset squad (/home/kzl6/.cache/huggingface/datasets/squad/plain_text/1.0.0/d6ec3ceb99ca480ce37cdd35555d6cb2511d223b9150cce08a837ef62ffea453)\n"
     ]
    }
   ],
   "source": [
    "from datasets import load_dataset\n",
    "\n",
    "squad = load_dataset(\"squad\", split=\"train[:5000]\")"
   ]
  },
  {
   "cell_type": "code",
   "execution_count": 19,
   "metadata": {},
   "outputs": [
    {
     "data": {
      "text/plain": [
       "{'id': '5733be284776f41900661182',\n",
       " 'title': 'University_of_Notre_Dame',\n",
       " 'context': 'Architecturally, the school has a Catholic character. Atop the Main Building\\'s gold dome is a golden statue of the Virgin Mary. Immediately in front of the Main Building and facing it, is a copper statue of Christ with arms upraised with the legend \"Venite Ad Me Omnes\". Next to the Main Building is the Basilica of the Sacred Heart. Immediately behind the basilica is the Grotto, a Marian place of prayer and reflection. It is a replica of the grotto at Lourdes, France where the Virgin Mary reputedly appeared to Saint Bernadette Soubirous in 1858. At the end of the main drive (and in a direct line that connects through 3 statues and the Gold Dome), is a simple, modern stone statue of Mary.',\n",
       " 'question': 'To whom did the Virgin Mary allegedly appear in 1858 in Lourdes France?',\n",
       " 'answers': {'text': ['Saint Bernadette Soubirous'], 'answer_start': [515]}}"
      ]
     },
     "execution_count": 19,
     "metadata": {},
     "output_type": "execute_result"
    }
   ],
   "source": [
    "squad[0]"
   ]
  },
  {
   "cell_type": "code",
   "execution_count": 20,
   "metadata": {},
   "outputs": [
    {
     "data": {
      "text/plain": [
       "(dict_keys(['input_ids', 'attention_mask']), torch.Size([1, 180]))"
      ]
     },
     "execution_count": 20,
     "metadata": {},
     "output_type": "execute_result"
    }
   ],
   "source": [
    "# inputs = tokenizer(squad[0]['question'], squad[0]['context'], return_tensors=\"pt\")\n",
    "inputs = tokenizer(squad[0]['context'], return_tensors=\"pt\")\n",
    "inputs.keys(), inputs['input_ids'].shape"
   ]
  },
  {
   "cell_type": "code",
   "execution_count": 21,
   "metadata": {},
   "outputs": [],
   "source": [
    "def preprocess_function(examples, n_tokens=20):\n",
    "    questions = [q.strip() for q in examples[\"question\"]]\n",
    "    inputs = tokenizer(\n",
    "        questions,\n",
    "        examples[\"context\"],\n",
    "        max_length=384,\n",
    "        truncation=\"only_second\",\n",
    "        padding=\"max_length\",\n",
    "        return_tensors=\"pt\"\n",
    "    )\n",
    "    \n",
    "    answers = [a['text'][0].strip() for a in examples[\"answers\"]]\n",
    "    targets = tokenizer(\n",
    "        answers,\n",
    "        max_length=384,\n",
    "        truncation=\"only_second\",\n",
    "        padding=\"max_length\",\n",
    "        return_tensors=\"pt\"\n",
    "    )\n",
    "        \n",
    "    model_inputs['input_ids'] = torch.cat([torch.full((inputs['input_ids'].shape[0],n_tokens), 50256), \n",
    "                                           inputs['input_ids']], 1)\n",
    "    model_inputs['attention_mask'] = torch.cat([torch.full((inputs['input_ids'].shape[0],n_tokens), 1), \n",
    "                                                inputs['attention_mask']], 1)\n",
    "    model_inputs['labels'] = targets['input_ids']\n",
    "    \n",
    "    return model_inputs"
   ]
  },
  {
   "cell_type": "code",
   "execution_count": 22,
   "metadata": {},
   "outputs": [
    {
     "data": {
      "application/vnd.jupyter.widget-view+json": {
       "model_id": "afc086d086354d02a0fe446d76382469",
       "version_major": 2,
       "version_minor": 0
      },
      "text/plain": [
       "Map:   0%|          | 0/5000 [00:00<?, ? examples/s]"
      ]
     },
     "metadata": {},
     "output_type": "display_data"
    }
   ],
   "source": [
    "tokenized_squad = squad.map(preprocess_function, batched=True, remove_columns=squad.column_names)"
   ]
  },
  {
   "cell_type": "code",
   "execution_count": 23,
   "metadata": {},
   "outputs": [],
   "source": [
    "tokenized_squad.set_format(\"torch\")"
   ]
  },
  {
   "cell_type": "code",
   "execution_count": 24,
   "metadata": {},
   "outputs": [
    {
     "data": {
      "text/plain": [
       "torch.Size([404])"
      ]
     },
     "execution_count": 24,
     "metadata": {},
     "output_type": "execute_result"
    }
   ],
   "source": [
    "tokenized_squad[0]['input_ids'].shape"
   ]
  },
  {
   "cell_type": "code",
   "execution_count": 25,
   "metadata": {},
   "outputs": [],
   "source": [
    "from tqdm.notebook import tqdm\n",
    "from torch.optim import AdamW\n",
    "from transformers import get_scheduler\n",
    "from torch.utils.data import DataLoader\n",
    "\n",
    "optimizer = AdamW(model.parameters(), lr=5e-5)\n",
    "\n",
    "num_epochs = 1\n",
    "num_training_steps = num_epochs * len(tokenized_squad)\n",
    "lr_scheduler = get_scheduler(\n",
    "    name=\"linear\", optimizer=optimizer, num_warmup_steps=0, num_training_steps=num_training_steps\n",
    ")\n",
    "\n",
    "train_dataloader = DataLoader(tokenized_squad, shuffle=True, batch_size=8)"
   ]
  },
  {
   "cell_type": "code",
   "execution_count": 26,
   "metadata": {
    "scrolled": true
   },
   "outputs": [
    {
     "data": {
      "application/vnd.jupyter.widget-view+json": {
       "model_id": "239100bba87c44dbb3d0d6914c29bcc2",
       "version_major": 2,
       "version_minor": 0
      },
      "text/plain": [
       "  0%|          | 0/1 [00:00<?, ?it/s]"
      ]
     },
     "metadata": {},
     "output_type": "display_data"
    }
   ],
   "source": [
    "model.train()\n",
    "model.to('cuda')\n",
    "\n",
    "for epoch in tqdm(range(num_epochs)):\n",
    "    for batch in train_dataloader:\n",
    "        batch = {k: v.to('cuda') for k, v in batch.items()}\n",
    "        outputs = model(**batch)\n",
    "        loss = outputs.loss\n",
    "        loss.backward()\n",
    "\n",
    "        optimizer.step()\n",
    "        lr_scheduler.step()\n",
    "        optimizer.zero_grad()"
   ]
  },
  {
   "cell_type": "code",
   "execution_count": 27,
   "metadata": {},
   "outputs": [],
   "source": [
    "# inputs = tokenizer(context + question, return_tensors=\"pt\")\n",
    "\n",
    "# answer_inputs = tokenizer(answer, return_tensors=\"pt\")\n",
    "\n",
    "# model_inputs = {}\n",
    "# model_inputs['decoder_input_ids'] = answer_inputs['input_ids']\n",
    "# model_inputs['input_ids'] = torch.cat([torch.full((1,n_tokens), 50256), inputs['input_ids']], 1)\n",
    "# model_inputs['attention_mask'] = torch.cat([torch.full((1,n_tokens), 1), inputs['attention_mask']], 1)\n"
   ]
  },
  {
   "cell_type": "code",
   "execution_count": 28,
   "metadata": {},
   "outputs": [
    {
     "name": "stderr",
     "output_type": "stream",
     "text": [
      "Found cached dataset squad (/home/kzl6/.cache/huggingface/datasets/squad/plain_text/1.0.0/d6ec3ceb99ca480ce37cdd35555d6cb2511d223b9150cce08a837ef62ffea453)\n"
     ]
    },
    {
     "data": {
      "text/plain": [
       "(5,\n",
       " {'id': '56be4db0acb8001400a502ec',\n",
       "  'title': 'Super_Bowl_50',\n",
       "  'context': 'Super Bowl 50 was an American football game to determine the champion of the National Football League (NFL) for the 2015 season. The American Football Conference (AFC) champion Denver Broncos defeated the National Football Conference (NFC) champion Carolina Panthers 24–10 to earn their third Super Bowl title. The game was played on February 7, 2016, at Levi\\'s Stadium in the San Francisco Bay Area at Santa Clara, California. As this was the 50th Super Bowl, the league emphasized the \"golden anniversary\" with various gold-themed initiatives, as well as temporarily suspending the tradition of naming each Super Bowl game with Roman numerals (under which the game would have been known as \"Super Bowl L\"), so that the logo could prominently feature the Arabic numerals 50.',\n",
       "  'question': 'Which NFL team represented the AFC at Super Bowl 50?',\n",
       "  'answers': {'text': ['Denver Broncos', 'Denver Broncos', 'Denver Broncos'],\n",
       "   'answer_start': [177, 177, 177]}})"
      ]
     },
     "execution_count": 28,
     "metadata": {},
     "output_type": "execute_result"
    }
   ],
   "source": [
    "squad_test = load_dataset(\"squad\", split=\"validation[:5]\")\n",
    "len(squad_test), squad_test[0]"
   ]
  },
  {
   "cell_type": "code",
   "execution_count": 29,
   "metadata": {},
   "outputs": [
    {
     "name": "stdout",
     "output_type": "stream",
     "text": [
      "Question: Which NFL team represented the AFC at Super Bowl 50?\n",
      "Predicted: The NFL's Super Bowl 50 logo was a re-imagined version of\n",
      "True: ['Denver Broncos', 'Denver Broncos', 'Denver Broncos']\n",
      "*******\n",
      "Question: Which NFL team represented the NFC at Super Bowl 50?\n",
      "Predicted: The NFL's Super Bowl 50 logo was a re-imagined version of\n",
      "True: ['Carolina Panthers', 'Carolina Panthers', 'Carolina Panthers']\n",
      "*******\n",
      "Question: Where did Super Bowl 50 take place?\n",
      "Predicted: The NFL's Super Bowl 50 logo was a re-imagined version of\n",
      "True: ['Santa Clara, California', \"Levi's Stadium\", \"Levi's Stadium in the San Francisco Bay Area at Santa Clara, California.\"]\n",
      "*******\n",
      "Question: Which NFL team won Super Bowl 50?\n",
      "Predicted: The NFL's Super Bowl 50 logo was a re-imagined version of\n",
      "True: ['Denver Broncos', 'Denver Broncos', 'Denver Broncos']\n",
      "*******\n",
      "Question: What color was used to emphasize the 50th anniversary of the Super Bowl?\n",
      "Predicted: The NFL's logo was a re-branding of the Super Bowl, which\n",
      "True: ['gold', 'gold', 'gold']\n",
      "*******\n"
     ]
    }
   ],
   "source": [
    "model.eval()\n",
    "\n",
    "for test_qa in squad_test:\n",
    "    inputs = tokenizer(\n",
    "        test_qa[\"question\"],\n",
    "        test_qa[\"context\"],\n",
    "        max_length=384,\n",
    "        truncation=\"only_second\",\n",
    "        padding=\"max_length\",\n",
    "        return_tensors=\"pt\"\n",
    "    )\n",
    "    model_inputs['input_ids'] = torch.cat([torch.full((inputs['input_ids'].shape[0],n_tokens), 50256), inputs['input_ids']], 1).cuda()\n",
    "    model_inputs['attention_mask'] = torch.cat([torch.full((inputs['input_ids'].shape[0],n_tokens), 1), inputs['attention_mask']], 1).cuda()\n",
    "    with torch.no_grad():\n",
    "        outputs = model.generate(model_inputs['input_ids'], max_length=20)\n",
    "        pred_answer = tokenizer.decode(outputs[0], skip_special_tokens=True)\n",
    "    print(\"Question:\", test_qa[\"question\"])\n",
    "    print(\"Predicted:\", pred_answer)\n",
    "    print(\"True:\", test_qa[\"answers\"][\"text\"])\n",
    "    print(\"*******\")"
   ]
  },
  {
   "cell_type": "markdown",
   "metadata": {},
   "source": [
    "# Finetune on Transfer Task"
   ]
  },
  {
   "cell_type": "code",
   "execution_count": null,
   "metadata": {},
   "outputs": [],
   "source": []
  }
 ],
 "metadata": {
  "kernelspec": {
   "display_name": "Python [conda env:prompttune]",
   "language": "python",
   "name": "conda-env-prompttune-py"
  },
  "language_info": {
   "codemirror_mode": {
    "name": "ipython",
    "version": 3
   },
   "file_extension": ".py",
   "mimetype": "text/x-python",
   "name": "python",
   "nbconvert_exporter": "python",
   "pygments_lexer": "ipython3",
   "version": "3.9.16"
  }
 },
 "nbformat": 4,
 "nbformat_minor": 4
}
